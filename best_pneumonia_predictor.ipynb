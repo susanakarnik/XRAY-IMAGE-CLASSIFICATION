{
  "nbformat": 4,
  "nbformat_minor": 0,
  "metadata": {
    "colab": {
      "name": "best_pneumonia_predictor.ipynb",
      "version": "0.3.2",
      "provenance": [],
      "collapsed_sections": []
    },
    "kernelspec": {
      "name": "python3",
      "display_name": "Python 3"
    },
    "accelerator": "GPU"
  },
  "cells": [
    {
      "metadata": {
        "id": "qAlS3Ik8PXE7",
        "colab_type": "code",
        "outputId": "91b04ce9-0291-482c-8a9e-da2327f4b94c",
        "colab": {
          "base_uri": "https://localhost:8080/",
          "height": 64
        }
      },
      "cell_type": "code",
      "source": [
        "!ls -lha kaggle.json"
      ],
      "execution_count": 1,
      "outputs": [
        {
          "output_type": "stream",
          "text": [
            "-rw-r--r-- 1 root root 66 Apr 11 06:40 kaggle.json\n"
          ],
          "name": "stdout"
        }
      ]
    },
    {
      "metadata": {
        "id": "uR79vzP9PyES",
        "colab_type": "code",
        "outputId": "c0564e69-7906-4244-f36a-f4a3ec38949e",
        "colab": {
          "base_uri": "https://localhost:8080/",
          "height": 64
        }
      },
      "cell_type": "code",
      "source": [
        "!ls -lha kaggle.json"
      ],
      "execution_count": 2,
      "outputs": [
        {
          "output_type": "stream",
          "text": [
            "-rw-r--r-- 1 root root 66 Apr 11 06:40 kaggle.json\n"
          ],
          "name": "stdout"
        }
      ]
    },
    {
      "metadata": {
        "id": "7r7iBAPHPzvw",
        "colab_type": "code",
        "colab": {}
      },
      "cell_type": "code",
      "source": [
        "!mkdir -p ~/.kaggle\n",
        "!cp kaggle.json ~/.kaggle/\n",
        "\n",
        "!chmod 600 ~/.kaggle/kaggle.json"
      ],
      "execution_count": 0,
      "outputs": []
    },
    {
      "metadata": {
        "id": "_nGoCt2yP1vK",
        "colab_type": "code",
        "outputId": "e3029672-a591-4cdb-f077-745384164672",
        "colab": {
          "base_uri": "https://localhost:8080/",
          "height": 81
        }
      },
      "cell_type": "code",
      "source": [
        "!ls -l ~/.kaggle"
      ],
      "execution_count": 4,
      "outputs": [
        {
          "output_type": "stream",
          "text": [
            "total 4\n",
            "-rw------- 1 root root 66 Apr 11 06:40 kaggle.json\n"
          ],
          "name": "stdout"
        }
      ]
    },
    {
      "metadata": {
        "id": "_nrtUD6fP6r-",
        "colab_type": "code",
        "outputId": "393faf15-1263-466d-f9c2-759077d744c7",
        "colab": {
          "base_uri": "https://localhost:8080/",
          "height": 70
        }
      },
      "cell_type": "code",
      "source": [
        "!kaggle datasets download -d paultimothymooney/chest-xray-pneumonia "
      ],
      "execution_count": 5,
      "outputs": [
        {
          "output_type": "stream",
          "text": [
            "Downloading chest-xray-pneumonia.zip to /content\n",
            " 99% 1.14G/1.15G [00:13<00:00, 62.3MB/s]\n",
            "100% 1.15G/1.15G [00:13<00:00, 93.2MB/s]\n"
          ],
          "name": "stdout"
        }
      ]
    },
    {
      "metadata": {
        "id": "6xVu5hMxP81L",
        "colab_type": "code",
        "outputId": "ca6f2870-d654-4456-a971-f0947b027ef5",
        "colab": {
          "base_uri": "https://localhost:8080/",
          "height": 52
        }
      },
      "cell_type": "code",
      "source": [
        "from zipfile import ZipFile\n",
        "print(\"uncompressing zip file\")\n",
        "\n",
        "filename = \"chest-xray-pneumonia.zip\"\n",
        "\n",
        "with ZipFile(filename, 'r') as zip:\n",
        "  zip.extractall()\n",
        "  \n",
        "print(\"done\")"
      ],
      "execution_count": 6,
      "outputs": [
        {
          "output_type": "stream",
          "text": [
            "uncompressing zip file\n",
            "done\n"
          ],
          "name": "stdout"
        }
      ]
    },
    {
      "metadata": {
        "id": "Gz5v2O9wQAsD",
        "colab_type": "code",
        "outputId": "b928565d-9a41-45b8-c046-a2bb4773930b",
        "colab": {
          "base_uri": "https://localhost:8080/",
          "height": 52
        }
      },
      "cell_type": "code",
      "source": [
        "\n",
        "print(\"uncompressing zip file\")\n",
        "\n",
        "filename = \"chest_xray.zip\"\n",
        "\n",
        "with ZipFile(filename, 'r') as zip:\n",
        "  zip.extractall()\n",
        "  \n",
        "print(\"done\")"
      ],
      "execution_count": 7,
      "outputs": [
        {
          "output_type": "stream",
          "text": [
            "uncompressing zip file\n",
            "done\n"
          ],
          "name": "stdout"
        }
      ]
    },
    {
      "metadata": {
        "id": "bHWSoedrIf5n",
        "colab_type": "code",
        "colab": {
          "base_uri": "https://localhost:8080/",
          "height": 35
        },
        "outputId": "afa62fd3-b4f8-460d-bd4e-444e968915f2"
      },
      "cell_type": "code",
      "source": [
        "import numpy as np # linear algebra\n",
        "import pandas as pd # data processing, \n",
        "\n",
        "import os\n",
        "print(os.listdir(\"chest_xray\"))\n",
        "from glob import glob\n",
        "from PIL import Image\n",
        "%matplotlib inline\n",
        "import matplotlib.pyplot as plt\n",
        "import cv2\n",
        "import fnmatch\n",
        "import keras\n",
        "from time import sleep\n",
        "from keras.utils import to_categorical\n",
        "from keras import backend as k"
      ],
      "execution_count": 25,
      "outputs": [
        {
          "output_type": "stream",
          "text": [
            "['train', '.DS_Store', 'val', 'test']\n"
          ],
          "name": "stdout"
        }
      ]
    },
    {
      "metadata": {
        "id": "C50I2JTfIpgT",
        "colab_type": "code",
        "colab": {
          "base_uri": "https://localhost:8080/",
          "height": 35
        },
        "outputId": "3a93f734-800d-4c1a-9339-de4eff36248a"
      },
      "cell_type": "code",
      "source": [
        "imagePatches = glob('chest_xray/**/**/*.jpeg', recursive=True)\n",
        "print(len(imagePatches))"
      ],
      "execution_count": 26,
      "outputs": [
        {
          "output_type": "stream",
          "text": [
            "17568\n"
          ],
          "name": "stdout"
        }
      ]
    },
    {
      "metadata": {
        "id": "bNv1cRO_Iq41",
        "colab_type": "code",
        "colab": {}
      },
      "cell_type": "code",
      "source": [
        "pattern_normal = '*NORMAL*'\n",
        "pattern_bacteria = '*_bacteria_*'\n",
        "pattern_virus = '*_virus_*'\n",
        "\n",
        "normal = fnmatch.filter(imagePatches, pattern_normal)\n",
        "bacteria = fnmatch.filter(imagePatches, pattern_bacteria)\n",
        "virus = fnmatch.filter(imagePatches, pattern_virus)\n",
        "x = []\n",
        "y = []\n",
        "for img in imagePatches:\n",
        "    full_size_image = cv2.imread(img)\n",
        "    im = cv2.resize(full_size_image, (224, 224), interpolation=cv2.INTER_CUBIC)\n",
        "    x.append(im)\n",
        "    if img in normal:\n",
        "        y.append(0)\n",
        "    elif img in bacteria:\n",
        "        y.append(1)\n",
        "    elif img in virus:\n",
        "        y.append(1)\n",
        "    else:\n",
        "        #break\n",
        "        print('no class')\n",
        "x = np.array(x)\n",
        "y = np.array(y)"
      ],
      "execution_count": 0,
      "outputs": []
    },
    {
      "metadata": {
        "id": "XXQPScJHI54q",
        "colab_type": "code",
        "colab": {}
      },
      "cell_type": "code",
      "source": [
        "from sklearn.model_selection import train_test_split\n",
        "x_train, x_valid, y_train, y_valid = train_test_split(x, y, test_size = 0.2, random_state = 101)\n",
        "y_train = to_categorical(y_train, num_classes = 2)\n",
        "y_valid = to_categorical(y_valid, num_classes = 2)\n",
        "del x, y"
      ],
      "execution_count": 0,
      "outputs": []
    },
    {
      "metadata": {
        "id": "WnIdNGylJG1J",
        "colab_type": "code",
        "colab": {}
      },
      "cell_type": "code",
      "source": [
        "import keras\n",
        "from keras.models import Sequential,Input,Model\n",
        "from keras.layers import Conv2D, MaxPooling2D, MaxPooling1D, GlobalAveragePooling2D, Dense, Dropout, Flatten, Input, LSTM, TimeDistributed, Activation\n",
        "from keras.layers.normalization import BatchNormalization\n",
        "from keras.optimizers import RMSprop,Adam\n",
        "from tensorflow.keras.callbacks import EarlyStopping\n",
        "from keras.layers.advanced_activations import LeakyReLU \n",
        "\n",
        "model = Sequential()\n",
        "\n",
        "model.add(Conv2D(32,(7,7),activation='relu'))\n",
        "model.add(MaxPooling2D((2,2)))\n",
        "model.add(BatchNormalization())\n",
        "model.add(Dropout(0.15))\n",
        "\n",
        "model.add(Conv2D(64,(5,5),activation='relu'))\n",
        "model.add(MaxPooling2D((2,2)))\n",
        "model.add(BatchNormalization())\n",
        "model.add(Dropout(0.15))\n",
        "\n",
        "model.add(Conv2D(128,(3,3),activation='relu'))\n",
        "model.add(MaxPooling2D((2,2)))\n",
        "model.add(BatchNormalization())\n",
        "model.add(Dropout(0.15))\n",
        "\n",
        "model.add(Conv2D(128,(3,3),activation='relu'))\n",
        "model.add(MaxPooling2D((2,2)))\n",
        "model.add(BatchNormalization())\n",
        "model.add(Dropout(0.15))\n",
        "\n",
        "model.add(GlobalAveragePooling2D())\n",
        "model.add(Dense(1000, activation='relu'))\n",
        "model.add(Dense(2,activation='sigmoid'))\n",
        "model.compile(optimizer='adam', loss = 'binary_crossentropy', metrics=['accuracy'])\n",
        "#model.summary()"
      ],
      "execution_count": 0,
      "outputs": []
    },
    {
      "metadata": {
        "id": "sSSxzW93Kgje",
        "colab_type": "code",
        "colab": {}
      },
      "cell_type": "code",
      "source": [
        "from keras.utils.vis_utils import plot_model\n",
        "plot_model(model, to_file='pneumonia_classifier_architecture.png', show_shapes=True, show_layer_names=True)"
      ],
      "execution_count": 0,
      "outputs": []
    },
    {
      "metadata": {
        "id": "VJYgKMcRKrod",
        "colab_type": "code",
        "colab": {}
      },
      "cell_type": "code",
      "source": [
        "from keras.callbacks import ModelCheckpoint\n",
        "mcp = ModelCheckpoint(filepath='pneumonia_classifier_model_checkpoint.h5',monitor=\"val_acc\", save_best_only=True, save_weights_only=False)"
      ],
      "execution_count": 0,
      "outputs": []
    },
    {
      "metadata": {
        "id": "CPZbTmgsK1o_",
        "colab_type": "code",
        "colab": {
          "base_uri": "https://localhost:8080/",
          "height": 1450
        },
        "outputId": "35eed523-c930-4d94-adca-e67a8ba592c8"
      },
      "cell_type": "code",
      "source": [
        "hist = model.fit(x_train,y_train,batch_size = 32, epochs = 40, verbose=1,  validation_split=0.2, callbacks=[mcp])"
      ],
      "execution_count": 32,
      "outputs": [
        {
          "output_type": "stream",
          "text": [
            "Train on 11243 samples, validate on 2811 samples\n",
            "Epoch 1/40\n",
            "11243/11243 [==============================] - 66s 6ms/step - loss: 0.2360 - acc: 0.9048 - val_loss: 3.3045 - val_acc: 0.7367\n",
            "Epoch 2/40\n",
            "11243/11243 [==============================] - 65s 6ms/step - loss: 0.1739 - acc: 0.9336 - val_loss: 0.2876 - val_acc: 0.8847\n",
            "Epoch 3/40\n",
            "11243/11243 [==============================] - 65s 6ms/step - loss: 0.1466 - acc: 0.9454 - val_loss: 1.4509 - val_acc: 0.7367\n",
            "Epoch 4/40\n",
            "11243/11243 [==============================] - 65s 6ms/step - loss: 0.1319 - acc: 0.9532 - val_loss: 1.3190 - val_acc: 0.7380\n",
            "Epoch 5/40\n",
            "11243/11243 [==============================] - 65s 6ms/step - loss: 0.1230 - acc: 0.9538 - val_loss: 0.3568 - val_acc: 0.9109\n",
            "Epoch 6/40\n",
            "11243/11243 [==============================] - 65s 6ms/step - loss: 0.0932 - acc: 0.9659 - val_loss: 0.5599 - val_acc: 0.7903\n",
            "Epoch 7/40\n",
            "11243/11243 [==============================] - 65s 6ms/step - loss: 0.0834 - acc: 0.9695 - val_loss: 0.1003 - val_acc: 0.9657\n",
            "Epoch 8/40\n",
            "11243/11243 [==============================] - 65s 6ms/step - loss: 0.0771 - acc: 0.9714 - val_loss: 0.1232 - val_acc: 0.9514\n",
            "Epoch 9/40\n",
            "11243/11243 [==============================] - 65s 6ms/step - loss: 0.0670 - acc: 0.9753 - val_loss: 0.0980 - val_acc: 0.9666\n",
            "Epoch 10/40\n",
            "11243/11243 [==============================] - 64s 6ms/step - loss: 0.0562 - acc: 0.9789 - val_loss: 0.1995 - val_acc: 0.9239\n",
            "Epoch 11/40\n",
            "11243/11243 [==============================] - 65s 6ms/step - loss: 0.0445 - acc: 0.9835 - val_loss: 0.1087 - val_acc: 0.9687\n",
            "Epoch 12/40\n",
            "11243/11243 [==============================] - 64s 6ms/step - loss: 0.0487 - acc: 0.9820 - val_loss: 0.0860 - val_acc: 0.9666\n",
            "Epoch 13/40\n",
            "11243/11243 [==============================] - 64s 6ms/step - loss: 0.0363 - acc: 0.9871 - val_loss: 1.9912 - val_acc: 0.7533\n",
            "Epoch 14/40\n",
            "11243/11243 [==============================] - 64s 6ms/step - loss: 0.0290 - acc: 0.9901 - val_loss: 0.2005 - val_acc: 0.9303\n",
            "Epoch 15/40\n",
            "11243/11243 [==============================] - 64s 6ms/step - loss: 0.0325 - acc: 0.9894 - val_loss: 1.9330 - val_acc: 0.7492\n",
            "Epoch 16/40\n",
            "11243/11243 [==============================] - 64s 6ms/step - loss: 0.0335 - acc: 0.9878 - val_loss: 0.8575 - val_acc: 0.7901\n",
            "Epoch 17/40\n",
            "11243/11243 [==============================] - 64s 6ms/step - loss: 0.0285 - acc: 0.9907 - val_loss: 0.0315 - val_acc: 0.9877\n",
            "Epoch 18/40\n",
            "11243/11243 [==============================] - 64s 6ms/step - loss: 0.0226 - acc: 0.9928 - val_loss: 0.1069 - val_acc: 0.9676\n",
            "Epoch 19/40\n",
            "11243/11243 [==============================] - 65s 6ms/step - loss: 0.0249 - acc: 0.9911 - val_loss: 0.2946 - val_acc: 0.9200\n",
            "Epoch 20/40\n",
            "11243/11243 [==============================] - 64s 6ms/step - loss: 0.0232 - acc: 0.9919 - val_loss: 0.2174 - val_acc: 0.9417\n",
            "Epoch 21/40\n",
            "11243/11243 [==============================] - 65s 6ms/step - loss: 0.0210 - acc: 0.9922 - val_loss: 0.0523 - val_acc: 0.9863\n",
            "Epoch 22/40\n",
            "11243/11243 [==============================] - 65s 6ms/step - loss: 0.0195 - acc: 0.9928 - val_loss: 0.4798 - val_acc: 0.8860\n",
            "Epoch 23/40\n",
            "11243/11243 [==============================] - 65s 6ms/step - loss: 0.0183 - acc: 0.9937 - val_loss: 0.0323 - val_acc: 0.9888\n",
            "Epoch 24/40\n",
            "11243/11243 [==============================] - 65s 6ms/step - loss: 0.0143 - acc: 0.9955 - val_loss: 0.0231 - val_acc: 0.9929\n",
            "Epoch 25/40\n",
            "11243/11243 [==============================] - 65s 6ms/step - loss: 0.0137 - acc: 0.9948 - val_loss: 0.1079 - val_acc: 0.9758\n",
            "Epoch 26/40\n",
            "11243/11243 [==============================] - 65s 6ms/step - loss: 0.0177 - acc: 0.9933 - val_loss: 0.0396 - val_acc: 0.9908\n",
            "Epoch 27/40\n",
            "11243/11243 [==============================] - 65s 6ms/step - loss: 0.0147 - acc: 0.9943 - val_loss: 0.1156 - val_acc: 0.9626\n",
            "Epoch 28/40\n",
            "11243/11243 [==============================] - 65s 6ms/step - loss: 0.0128 - acc: 0.9952 - val_loss: 0.0293 - val_acc: 0.9925\n",
            "Epoch 29/40\n",
            "11243/11243 [==============================] - 65s 6ms/step - loss: 0.0221 - acc: 0.9920 - val_loss: 0.2182 - val_acc: 0.9217\n",
            "Epoch 30/40\n",
            "11243/11243 [==============================] - 65s 6ms/step - loss: 0.0089 - acc: 0.9972 - val_loss: 0.0333 - val_acc: 0.9859\n",
            "Epoch 31/40\n",
            "11243/11243 [==============================] - 65s 6ms/step - loss: 0.0087 - acc: 0.9972 - val_loss: 0.0189 - val_acc: 0.9961\n",
            "Epoch 32/40\n",
            "11243/11243 [==============================] - 65s 6ms/step - loss: 0.0102 - acc: 0.9967 - val_loss: 0.3591 - val_acc: 0.9095\n",
            "Epoch 33/40\n",
            "11243/11243 [==============================] - 65s 6ms/step - loss: 0.0119 - acc: 0.9955 - val_loss: 0.0320 - val_acc: 0.9922\n",
            "Epoch 34/40\n",
            "11243/11243 [==============================] - 65s 6ms/step - loss: 0.0150 - acc: 0.9950 - val_loss: 0.0600 - val_acc: 0.9811\n",
            "Epoch 35/40\n",
            "11243/11243 [==============================] - 65s 6ms/step - loss: 0.0085 - acc: 0.9974 - val_loss: 0.3408 - val_acc: 0.8967\n",
            "Epoch 36/40\n",
            "11243/11243 [==============================] - 65s 6ms/step - loss: 0.0103 - acc: 0.9963 - val_loss: 0.0479 - val_acc: 0.9863\n",
            "Epoch 37/40\n",
            "11243/11243 [==============================] - 65s 6ms/step - loss: 0.0105 - acc: 0.9961 - val_loss: 0.0202 - val_acc: 0.9952\n",
            "Epoch 38/40\n",
            "11243/11243 [==============================] - 65s 6ms/step - loss: 0.0070 - acc: 0.9978 - val_loss: 0.1746 - val_acc: 0.9516\n",
            "Epoch 39/40\n",
            "11243/11243 [==============================] - 65s 6ms/step - loss: 0.0099 - acc: 0.9963 - val_loss: 0.0382 - val_acc: 0.9897\n",
            "Epoch 40/40\n",
            "11243/11243 [==============================] - 65s 6ms/step - loss: 0.0144 - acc: 0.9956 - val_loss: 0.1986 - val_acc: 0.9447\n"
          ],
          "name": "stdout"
        }
      ]
    },
    {
      "metadata": {
        "id": "OoEVoK3KS_Sa",
        "colab_type": "code",
        "colab": {}
      },
      "cell_type": "code",
      "source": [
        "from keras.models import load_model\n",
        "model.save('pneumonia_best_classifier_model.h5')"
      ],
      "execution_count": 0,
      "outputs": []
    },
    {
      "metadata": {
        "id": "ihP-WWIXRQwW",
        "colab_type": "code",
        "colab": {
          "base_uri": "https://localhost:8080/",
          "height": 295
        },
        "outputId": "a5b6007d-1bb1-4f31-dd00-01288e47b3d4"
      },
      "cell_type": "code",
      "source": [
        "fig = plt.figure()\n",
        "ax = fig.add_subplot(111)\n",
        "ax.set_facecolor('w')\n",
        "ax.grid(b=False)\n",
        "ax.plot(hist.history['acc'], color='red')\n",
        "ax.plot(hist.history['val_acc'], color ='green')\n",
        "plt.title('model accuracy')\n",
        "plt.ylabel('accuracy')\n",
        "plt.xlabel('epoch')\n",
        "plt.legend(['train', 'test'], loc='lower right')\n",
        "plt.show()"
      ],
      "execution_count": 41,
      "outputs": [
        {
          "output_type": "display_data",
          "data": {
            "image/png": "[encoded data removed]",
            "text/plain": [
              "<Figure size 432x288 with 1 Axes>"
            ]
          },
          "metadata": {
            "tags": []
          }
        }
      ]
    },
    {
      "metadata": {
        "id": "A6x09NJMVHN1",
        "colab_type": "code",
        "colab": {
          "base_uri": "https://localhost:8080/",
          "height": 295
        },
        "outputId": "6fd5238a-0dfc-4437-a417-64acf7e7cb0a"
      },
      "cell_type": "code",
      "source": [
        "fig = plt.figure()\n",
        "ax = fig.add_subplot(111)\n",
        "ax.set_facecolor('w')\n",
        "ax.grid(b=False)\n",
        "ax.plot(hist.history['loss'], color='red')\n",
        "ax.plot(hist.history['val_loss'], color ='green')\n",
        "plt.title('model loss')\n",
        "plt.ylabel('loss')\n",
        "plt.xlabel('epoch')\n",
        "plt.legend(['train', 'test'], loc='upper right')\n",
        "plt.show()"
      ],
      "execution_count": 42,
      "outputs": [
        {
          "output_type": "display_data",
          "data": {
            "image/png": "[encoded data removed]",
            "text/plain": [
              "<Figure size 432x288 with 1 Axes>"
            ]
          },
          "metadata": {
            "tags": []
          }
        }
      ]
    },
    {
      "metadata": {
        "id": "BU3ltirzVWo1",
        "colab_type": "code",
        "colab": {
          "base_uri": "https://localhost:8080/",
          "height": 176
        },
        "outputId": "75b57bc3-b5ce-49ac-9953-4685bc541602"
      },
      "cell_type": "code",
      "source": [
        "from sklearn.metrics import classification_report\n",
        "pred = model.predict(x_valid)\n",
        "print(classification_report(np.argmax(y_valid, axis = 1),np.argmax(pred, axis = 1)))"
      ],
      "execution_count": 43,
      "outputs": [
        {
          "output_type": "stream",
          "text": [
            "              precision    recall  f1-score   support\n",
            "\n",
            "           0       0.99      1.00      1.00       963\n",
            "           1       1.00      1.00      1.00      2551\n",
            "\n",
            "   micro avg       1.00      1.00      1.00      3514\n",
            "   macro avg       1.00      1.00      1.00      3514\n",
            "weighted avg       1.00      1.00      1.00      3514\n",
            "\n"
          ],
          "name": "stdout"
        }
      ]
    },
    {
      "metadata": {
        "id": "XtmYXASBBblA",
        "colab_type": "code",
        "colab": {}
      },
      "cell_type": "code",
      "source": [
        "model.load_weights('pneumonia_classifier_model_checkpoint.h5')"
      ],
      "execution_count": 0,
      "outputs": []
    },
    {
      "metadata": {
        "id": "2DqxByvbV63K",
        "colab_type": "code",
        "colab": {}
      },
      "cell_type": "code",
      "source": [
        "def plot_confusion_matrix(cm,\n",
        "                          target_names,\n",
        "                          title='Confusion matrix',\n",
        "                          cmap=None,\n",
        "                          normalize=True):\n",
        "    import matplotlib.pyplot as plt\n",
        "    import numpy as np\n",
        "    import itertools\n",
        "\n",
        "    accuracy = np.trace(cm) / float(np.sum(cm))\n",
        "    misclass = 1 - accuracy\n",
        "\n",
        "    if cmap is None:\n",
        "        cmap = plt.get_cmap('Blues')\n",
        "\n",
        "    plt.figure(figsize=(8, 6))\n",
        "    plt.grid(b=False)\n",
        "    plt.imshow(cm, interpolation='nearest', cmap=cmap)\n",
        "    plt.title(title)\n",
        "    plt.colorbar()\n",
        "\n",
        "    if target_names is not None:\n",
        "        tick_marks = np.arange(len(target_names))\n",
        "        plt.xticks(tick_marks, target_names, rotation=45)\n",
        "        plt.yticks(tick_marks, target_names)\n",
        "    if normalize:\n",
        "        cm = cm.astype('float') / cm.sum(axis=1)[:, np.newaxis]\n",
        "\n",
        "\n",
        "    thresh = cm.max() / 1.5 if normalize else cm.max() / 2\n",
        "    for i, j in itertools.product(range(cm.shape[0]), range(cm.shape[1])):\n",
        "        if normalize:\n",
        "            plt.text(j, i, \"{:0.4f}\".format(cm[i, j]),\n",
        "                     horizontalalignment=\"center\",\n",
        "                     color=\"white\" if cm[i, j] > thresh else \"black\")\n",
        "        else:\n",
        "            plt.text(j, i, \"{:,}\".format(cm[i, j]),\n",
        "                     horizontalalignment=\"center\",\n",
        "                     color=\"white\" if cm[i, j] > thresh else \"black\")\n",
        "\n",
        "\n",
        "    plt.tight_layout()\n",
        "    plt.ylabel('True label')\n",
        "    plt.xlabel('Predicted label\\naccuracy={:0.4f}; misclass={:0.4f}'.format(accuracy, misclass))\n",
        "    plt.show()"
      ],
      "execution_count": 0,
      "outputs": []
    },
    {
      "metadata": {
        "id": "7CSw6LgFWcr6",
        "colab_type": "code",
        "colab": {
          "base_uri": "https://localhost:8080/",
          "height": 467
        },
        "outputId": "7e4c2cff-4a20-48b2-cba6-dc58449a25d6"
      },
      "cell_type": "code",
      "source": [
        "from sklearn.metrics import confusion_matrix\n",
        "cm = confusion_matrix(np.argmax(y_valid, axis = 1),np.argmax(pred, axis = 1))\n",
        "plot_confusion_matrix(cm = cm,\n",
        "                      normalize    = False,\n",
        "                      cmap ='Reds',\n",
        "                      target_names = ['0','1'],\n",
        "                      title        = \"Confusion Matrix\")"
      ],
      "execution_count": 46,
      "outputs": [
        {
          "output_type": "display_data",
          "data": {
            "image/png": "[encoded data removed]",
            "text/plain": [
              "<Figure size 576x432 with 2 Axes>"
            ]
          },
          "metadata": {
            "tags": []
          }
        }
      ]
    },
    {
      "metadata": {
        "id": "4_d-l6pgXOG2",
        "colab_type": "code",
        "colab": {}
      },
      "cell_type": "code",
      "source": [
        ""
      ],
      "execution_count": 0,
      "outputs": []
    }
  ]
}