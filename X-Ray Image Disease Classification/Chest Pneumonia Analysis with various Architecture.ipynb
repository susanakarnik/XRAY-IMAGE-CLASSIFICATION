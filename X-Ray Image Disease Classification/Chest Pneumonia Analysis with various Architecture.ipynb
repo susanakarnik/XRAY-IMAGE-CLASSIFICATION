{
 "cells": [
  {
   "cell_type": "markdown",
   "metadata": {},
   "source": [
    "# Chest Xray Pneumonia Detection\n",
    "<b>Abstract</b>:&nbsp;Pneumonia is an infection that inflames the air sacs in one or both lungs. The air sacs may fill with fluid or pus (purulent material), causing cough with phlegm or pus, fever, chills, and difficulty breathing. A variety of organisms, including bacteria, viruses and fungi, can cause pneumonia.\n",
    "\n",
    "<b>Lungs image pre-processing and compilation of dataset for deep learning&nbsp;:</b>&nbsp;The project is about diagnosing pneumonia from XRay images of lungs of a person using self laid convolutional neural network and tranfer learning via inceptionV3. The images were of size greater than 1000 pixels per dimension and the total dataset was tagged large and had a space of 1.2 Gb.\n",
    "\n",
    "<b>Task</b>:&nbsp;Now we have to Regcognise the future images and give the prediction result\n",
    "\n",
    "<b>Importing the library</b>"
   ]
  },
  {
   "cell_type": "markdown",
   "metadata": {},
   "source": [
    "#  Model 1"
   ]
  },
  {
   "cell_type": "code",
   "execution_count": 1,
   "metadata": {},
   "outputs": [
    {
     "name": "stderr",
     "output_type": "stream",
     "text": [
      "/home/suvhradip/anaconda3/lib/python3.6/site-packages/h5py/__init__.py:36: FutureWarning: Conversion of the second argument of issubdtype from `float` to `np.floating` is deprecated. In future, it will be treated as `np.float64 == np.dtype(float).type`.\n",
      "  from ._conv import register_converters as _register_converters\n",
      "Using TensorFlow backend.\n"
     ]
    },
    {
     "name": "stdout",
     "output_type": "stream",
     "text": [
      "WARNING:tensorflow:From /home/suvhradip/anaconda3/lib/python3.6/site-packages/tensorflow/python/framework/op_def_library.py:263: colocate_with (from tensorflow.python.framework.ops) is deprecated and will be removed in a future version.\n",
      "Instructions for updating:\n",
      "Colocations handled automatically by placer.\n"
     ]
    }
   ],
   "source": [
    "# Importing the Keras libraries and packages\n",
    "from keras.models import Sequential\n",
    "from keras.layers import Conv2D\n",
    "from keras.layers import MaxPooling2D\n",
    "from keras.layers import Flatten\n",
    "from keras.layers import Dense\n",
    "from keras.layers.core import Flatten, Dense, Dropout\n",
    "from keras.layers.convolutional import Convolution2D, MaxPooling2D, ZeroPadding2D\n",
    "from keras.optimizers import SGD\n",
    "\n",
    "# Initialising the CNN\n",
    "classifier = Sequential()\n",
    "\n",
    "# Step 1 - Convolution\n",
    "classifier.add(Conv2D(32, (3, 3), input_shape = (64, 64, 3), activation = 'relu'))\n",
    "\n",
    "# Step 2 - Pooling\n",
    "classifier.add(MaxPooling2D(pool_size = (2, 2)))\n",
    "\n",
    "# Adding a second convolutional layer\n",
    "classifier.add(Conv2D(32, (3, 3), activation = 'relu'))\n",
    "classifier.add(MaxPooling2D(pool_size = (2, 2)))\n",
    "\n",
    "classifier.add(Conv2D(32, (3, 3), activation = 'relu'))\n",
    "classifier.add(MaxPooling2D(pool_size = (2, 2)))\n",
    "\n",
    "# Step 3 - Flattening\n",
    "classifier.add(Flatten())\n",
    "\n",
    "# Step 4 - Full connection\n",
    "classifier.add(Dense(units = 128, activation = 'relu'))\n",
    "classifier.add(Dense(units = 1, activation = 'sigmoid'))\n",
    "\n",
    "# Compiling the CNN\n",
    "classifier.compile(optimizer = 'adam', loss = 'binary_crossentropy', metrics = ['accuracy'])"
   ]
  },
  {
   "cell_type": "code",
   "execution_count": 4,
   "metadata": {},
   "outputs": [
    {
     "name": "stdout",
     "output_type": "stream",
     "text": [
      "Found 5216 images belonging to 2 classes.\n",
      "Found 624 images belonging to 2 classes.\n",
      "Epoch 1/10\n",
      "4000/4000 [==============================] - 1765s 441ms/step - loss: 0.1305 - acc: 0.9507 - val_loss: 0.3104 - val_acc: 0.9054\n",
      "Epoch 2/10\n",
      "4000/4000 [==============================] - 1766s 441ms/step - loss: 0.0895 - acc: 0.9666 - val_loss: 0.2183 - val_acc: 0.9327\n",
      "Epoch 3/10\n",
      "4000/4000 [==============================] - 1751s 438ms/step - loss: 0.0695 - acc: 0.9746 - val_loss: 0.3889 - val_acc: 0.9151\n",
      "Epoch 4/10\n",
      "4000/4000 [==============================] - 1771s 443ms/step - loss: 0.0559 - acc: 0.9790 - val_loss: 0.4123 - val_acc: 0.9071\n",
      "Epoch 5/10\n",
      "4000/4000 [==============================] - 1738s 435ms/step - loss: 0.0443 - acc: 0.9837 - val_loss: 0.4613 - val_acc: 0.9038\n",
      "Epoch 6/10\n",
      "4000/4000 [==============================] - 1738s 434ms/step - loss: 0.0364 - acc: 0.9861 - val_loss: 0.4326 - val_acc: 0.9103\n",
      "Epoch 7/10\n",
      "4000/4000 [==============================] - 1740s 435ms/step - loss: 0.0318 - acc: 0.9884 - val_loss: 0.4332 - val_acc: 0.9167\n",
      "Epoch 8/10\n",
      "4000/4000 [==============================] - 1739s 435ms/step - loss: 0.0279 - acc: 0.9899 - val_loss: 0.3453 - val_acc: 0.9199\n",
      "Epoch 9/10\n",
      "4000/4000 [==============================] - 1738s 434ms/step - loss: 0.0249 - acc: 0.9908 - val_loss: 0.5015 - val_acc: 0.9119\n",
      "Epoch 10/10\n",
      "4000/4000 [==============================] - 1737s 434ms/step - loss: 0.0213 - acc: 0.9920 - val_loss: 0.4638 - val_acc: 0.9087\n"
     ]
    }
   ],
   "source": [
    "# Part 2 - Fitting the CNN to the images\n",
    "\n",
    "from keras.preprocessing.image import ImageDataGenerator\n",
    "\n",
    "train_datagen = ImageDataGenerator(rescale = 1./255,\n",
    "                                   shear_range = 0.2,\n",
    "                                   zoom_range = 0.2,\n",
    "                                   horizontal_flip = True)\n",
    "\n",
    "test_datagen = ImageDataGenerator(rescale = 1./255)\n",
    "\n",
    "training_set = train_datagen.flow_from_directory('chest_xray/train',\n",
    "                                                 target_size = (64, 64),\n",
    "                                                 batch_size = 32,\n",
    "                                                 class_mode = 'binary')\n",
    "\n",
    "test_set = test_datagen.flow_from_directory('chest_xray/test',\n",
    "                                            target_size = (64, 64),\n",
    "                                            batch_size = 32,\n",
    "                                            class_mode = 'binary')\n",
    "\n",
    "history=classifier.fit_generator(training_set,\n",
    "                         steps_per_epoch = 4000,\n",
    "                         epochs = 10,\n",
    "                         validation_data = test_set,\n",
    "                         validation_steps = 1000)\n"
   ]
  },
  {
   "cell_type": "markdown",
   "metadata": {},
   "source": [
    "# Result Visualization"
   ]
  },
  {
   "cell_type": "code",
   "execution_count": 7,
   "metadata": {},
   "outputs": [
    {
     "name": "stderr",
     "output_type": "stream",
     "text": [
      "/home/suvhradip/anaconda3/lib/python3.6/site-packages/matplotlib/legend.py:641: UserWarning: Unrecognized location \"left\". Falling back on \"best\"; valid locations are\n",
      "\tbest\n",
      "\tupper right\n",
      "\tupper left\n",
      "\tlower left\n",
      "\tlower right\n",
      "\tright\n",
      "\tcenter left\n",
      "\tcenter right\n",
      "\tlower center\n",
      "\tupper center\n",
      "\tcenter\n",
      "\n",
      "  % (loc, '\\n\\t'.join(self.codes)))\n"
     ]
    },
    {
     "data": {
      "image/png": "[encoded data removed]",
      "text/plain": [
       "<Figure size 432x288 with 1 Axes>"
      ]
     },
     "metadata": {
      "needs_background": "light"
     },
     "output_type": "display_data"
    }
   ],
   "source": [
    "\n",
    "plt.plot(history.history['loss'])\n",
    "plt.plot(history.history['val_loss'])\n",
    "plt.title('model loss')\n",
    "plt.ylabel('loss')\n",
    "plt.xlabel('epoch')\n",
    "plt.legend(['train', 'test'], loc='upper left')\n",
    "plt.show()"
   ]
  },
  {
   "cell_type": "code",
   "execution_count": 16,
   "metadata": {},
   "outputs": [
    {
     "data": {
      "image/png": "[encoded data removed]",
      "text/plain": [
       "<Figure size 432x288 with 1 Axes>"
      ]
     },
     "metadata": {
      "needs_background": "light"
     },
     "output_type": "display_data"
    },
    {
     "data": {
      "image/png": "[encoded data removed]",
      "text/plain": [
       "<Figure size 432x288 with 1 Axes>"
      ]
     },
     "metadata": {
      "needs_background": "light"
     },
     "output_type": "display_data"
    }
   ],
   "source": [
    "plt.plot(history.history['acc'])\n",
    "plt.plot(history.history['val_acc'])\n",
    "plt.title('model accuracy')\n",
    "plt.ylabel('accuracy')\n",
    "plt.xlabel('epoch')\n",
    "plt.legend(['train', 'test'], loc='upper left')\n",
    "plt.show()\n",
    "# summarize history for loss\n",
    "plt.plot(history.history['loss'])\n",
    "plt.plot(history.history['val_loss'])\n",
    "plt.title('model loss')\n",
    "plt.ylabel('loss')\n",
    "plt.xlabel('epoch')\n",
    "plt.legend(['train', 'test'], loc='upper left')\n",
    "plt.show()"
   ]
  },
  {
   "cell_type": "markdown",
   "metadata": {},
   "source": [
    "# Model 2\n",
    "<ul>\n",
    "  <li>ReLU Activation</li>\n",
    "  <li>SGD optimzer</li>\n",
    "  <li>Dropout + Batch Normalization</li>\n",
    "</ul>\n",
    "Here i am doing new architecture with improving the previous architecture"
   ]
  },
  {
   "cell_type": "code",
   "execution_count": 14,
   "metadata": {
    "scrolled": true
   },
   "outputs": [
    {
     "name": "stdout",
     "output_type": "stream",
     "text": [
      "_________________________________________________________________\n",
      "Layer (type)                 Output Shape              Param #   \n",
      "=================================================================\n",
      "zero_padding2d_6 (ZeroPaddin (None, 66, 66, 3)         0         \n",
      "_________________________________________________________________\n",
      "conv2d_9 (Conv2D)            (None, 64, 64, 64)        1792      \n",
      "_________________________________________________________________\n",
      "dropout_10 (Dropout)         (None, 64, 64, 64)        0         \n",
      "_________________________________________________________________\n",
      "zero_padding2d_7 (ZeroPaddin (None, 66, 66, 64)        0         \n",
      "_________________________________________________________________\n",
      "conv2d_10 (Conv2D)           (None, 64, 64, 64)        36928     \n",
      "_________________________________________________________________\n",
      "max_pooling2d_7 (MaxPooling2 (None, 32, 32, 64)        0         \n",
      "_________________________________________________________________\n",
      "dropout_11 (Dropout)         (None, 32, 32, 64)        0         \n",
      "_________________________________________________________________\n",
      "flatten_4 (Flatten)          (None, 65536)             0         \n",
      "_________________________________________________________________\n",
      "dense_9 (Dense)              (None, 256)               16777472  \n",
      "_________________________________________________________________\n",
      "batch_normalization_5 (Batch (None, 256)               1024      \n",
      "_________________________________________________________________\n",
      "dropout_12 (Dropout)         (None, 256)               0         \n",
      "_________________________________________________________________\n",
      "dense_10 (Dense)             (None, 128)               32896     \n",
      "_________________________________________________________________\n",
      "batch_normalization_6 (Batch (None, 128)               512       \n",
      "_________________________________________________________________\n",
      "dropout_13 (Dropout)         (None, 128)               0         \n",
      "_________________________________________________________________\n",
      "dense_11 (Dense)             (None, 1)                 129       \n",
      "=================================================================\n",
      "Total params: 16,850,753\n",
      "Trainable params: 16,849,985\n",
      "Non-trainable params: 768\n",
      "_________________________________________________________________\n",
      "None\n"
     ]
    }
   ],
   "source": [
    "\n",
    "from keras.datasets import mnist\n",
    "from keras.models import Sequential\n",
    "from keras.layers import Dense, Dropout, Flatten\n",
    "from keras.layers import Conv2D, MaxPooling2D, ZeroPadding2D, Convolution2D\n",
    "from keras.layers import Dropout\n",
    "from keras.layers.normalization import BatchNormalization\n",
    "from keras import optimizers\n",
    "import warnings\n",
    "warnings.filterwarnings(\"ignore\")\n",
    "\n",
    "output_dim=10\n",
    "batch_size = 128 \n",
    "nb_epoch = 50\n",
    "input_shape = (64, 64, 3)\n",
    "#Initialize model\n",
    "model = Sequential()\n",
    "\n",
    "#CNN Layer 1\n",
    "#input: 28X28 images with 1 channel -> (28X28X1) tensors.\n",
    "#this applies 64 convolution filters of size 3X3 each.\n",
    "model.add(ZeroPadding2D((1,1), input_shape=input_shape))\n",
    "model.add(Convolution2D(filters=64, kernel_size=(3,3), activation='relu', kernel_initializer='he_normal'))\n",
    "model.add(Dropout(0.4))\n",
    "\n",
    "#CNN Layer 2\n",
    "model.add(ZeroPadding2D((1,1)))\n",
    "model.add(Convolution2D(filters=64, kernel_size=(3,3), activation='relu', kernel_initializer='he_normal'))\n",
    "model.add(MaxPooling2D((2,2), strides=(2,2)))\n",
    "model.add(Dropout(0.4))\n",
    "\n",
    "#Flatten the output before feeding these to the fully connected Neurons                                    \n",
    "model.add(Flatten())\n",
    "\n",
    "#Fully connected Layers\n",
    "model.add(Dense(256, activation='relu', kernel_initializer='he_normal'))\n",
    "model.add(BatchNormalization())\n",
    "model.add(Dropout(0.5))\n",
    "\n",
    "model.add(Dense(128, activation='relu', kernel_initializer='he_normal'))\n",
    "model.add(BatchNormalization())\n",
    "model.add(Dropout(0.5))\n",
    "model.add(Dense(1, activation='sigmoid', kernel_initializer='he_normal'))\n",
    "\n",
    "#Using adam as our optimzer\n",
    "sgd = optimizers.SGD(lr=0.01, decay=1e-6, momentum=0.9, nesterov=True)\n",
    "\n",
    "#Get a summary of the model.\n",
    "print(model.summary())\n",
    "\n",
    "#Compile the model\n",
    "model.compile(loss='binary_crossentropy', optimizer=sgd, metrics=['accuracy'])"
   ]
  },
  {
   "cell_type": "code",
   "execution_count": 15,
   "metadata": {},
   "outputs": [
    {
     "name": "stdout",
     "output_type": "stream",
     "text": [
      "Found 5216 images belonging to 2 classes.\n",
      "Found 624 images belonging to 2 classes.\n",
      "Epoch 1/10\n",
      "4000/4000 [==============================] - 1925s 481ms/step - loss: 0.0193 - acc: 0.9931 - val_loss: 0.6830 - val_acc: 0.9103\n",
      "Epoch 2/10\n",
      "4000/4000 [==============================] - 2400s 600ms/step - loss: 0.0178 - acc: 0.9935 - val_loss: 0.5926 - val_acc: 0.9087\n",
      "Epoch 3/10\n",
      "4000/4000 [==============================] - 1775s 444ms/step - loss: 0.0167 - acc: 0.9940 - val_loss: 0.5321 - val_acc: 0.9135\n",
      "Epoch 4/10\n",
      "4000/4000 [==============================] - 1743s 436ms/step - loss: 0.0145 - acc: 0.9948 - val_loss: 0.7715 - val_acc: 0.8926\n",
      "Epoch 5/10\n",
      "4000/4000 [==============================] - 1744s 436ms/step - loss: 0.0154 - acc: 0.9946 - val_loss: 0.6701 - val_acc: 0.8958\n",
      "Epoch 6/10\n",
      "4000/4000 [==============================] - 1738s 435ms/step - loss: 0.0140 - acc: 0.9949 - val_loss: 0.5308 - val_acc: 0.9167\n",
      "Epoch 7/10\n",
      "4000/4000 [==============================] - 1849s 462ms/step - loss: 0.0132 - acc: 0.9953 - val_loss: 0.8172 - val_acc: 0.8910\n",
      "Epoch 8/10\n",
      "4000/4000 [==============================] - 2071s 518ms/step - loss: 0.0126 - acc: 0.9956 - val_loss: 0.7903 - val_acc: 0.9054\n",
      "Epoch 9/10\n",
      "4000/4000 [==============================] - 1888s 472ms/step - loss: 0.0107 - acc: 0.9962 - val_loss: 0.8862 - val_acc: 0.8958\n",
      "Epoch 10/10\n",
      "4000/4000 [==============================] - 1756s 439ms/step - loss: 0.0120 - acc: 0.9958 - val_loss: 0.5934 - val_acc: 0.9183\n"
     ]
    }
   ],
   "source": [
    "# Part 2 - Fitting the CNN to the images\n",
    "\n",
    "from keras.preprocessing.image import ImageDataGenerator\n",
    "\n",
    "train_datagen = ImageDataGenerator(rescale = 1./255,\n",
    "                                   shear_range = 0.2,\n",
    "                                   zoom_range = 0.2,\n",
    "                                   horizontal_flip = True)\n",
    "\n",
    "test_datagen = ImageDataGenerator(rescale = 1./255)\n",
    "\n",
    "training_set = train_datagen.flow_from_directory('chest_xray/train',\n",
    "                                                 target_size = (64, 64),\n",
    "                                                 batch_size = 32,\n",
    "                                                 class_mode = 'binary')\n",
    "\n",
    "test_set = test_datagen.flow_from_directory('chest_xray/test',\n",
    "                                            target_size = (64, 64),\n",
    "                                            batch_size = 32,\n",
    "                                            class_mode = 'binary')\n",
    "\n",
    "history=classifier.fit_generator(training_set,\n",
    "                         steps_per_epoch = 4000,\n",
    "                         epochs = 10,\n",
    "                         validation_data = test_set,\n",
    "                         validation_steps = 1000)\n"
   ]
  },
  {
   "cell_type": "markdown",
   "metadata": {},
   "source": [
    "# Result Visualization "
   ]
  },
  {
   "cell_type": "code",
   "execution_count": 19,
   "metadata": {},
   "outputs": [
    {
     "data": {
      "image/png": "[encoded data removed]",
      "text/plain": [
       "<Figure size 432x288 with 1 Axes>"
      ]
     },
     "metadata": {
      "needs_background": "light"
     },
     "output_type": "display_data"
    }
   ],
   "source": [
    "plt.plot(history.history['loss'])\n",
    "plt.plot(history.history['val_loss'])\n",
    "plt.title('model loss')\n",
    "plt.ylabel('loss')\n",
    "plt.xlabel('epoch')\n",
    "plt.legend(['train', 'test'], loc='left')\n",
    "plt.show()"
   ]
  },
  {
   "cell_type": "markdown",
   "metadata": {},
   "source": [
    "# Example "
   ]
  },
  {
   "cell_type": "code",
   "execution_count": null,
   "metadata": {},
   "outputs": [],
   "source": [
    "\n",
    "'''\n",
    "output_dim=10\n",
    "batch_size = 128 \n",
    "nb_epoch = 50\n",
    "input_shape = \n",
    "#Initialize model\n",
    "model = Sequential()\n",
    "\n",
    "#CNN Layer 1\n",
    "#input: 28X28 images with 1 channel -> (28X28X1) tensors.\n",
    "#this applies 64 convolution filters of size 3X3 each.\n",
    "model.add(ZeroPadding2D((1,1), input_shape=input_shape))\n",
    "model.add(Convolution2D(filters=64, kernel_size=(3,3), activation='relu', kernel_initializer='random_uniform'))\n",
    "model.add(Dropout(0.4))\n",
    "#Flatten the output before feeding these to the fully connected Neurons                                    \n",
    "model.add(Flatten())\n",
    "\n",
    "#Fully connected Layers\n",
    "model.add(Dense(512, activation='relu', kernel_initializer='random_uniform'))\n",
    "model.add(BatchNormalization())\n",
    "model.add(Dropout(0.5))\n",
    "\n",
    "model.add(Dense(128, activation='relu', kernel_initializer='random_uniform'))\n",
    "model.add(BatchNormalization())\n",
    "model.add(Dropout(0.5))\n",
    "model.add(Dense(1, activation='sigmoid', kernel_initializer='random_uniform'))\n",
    "\n",
    "#compile the model\n",
    "optim=optimizers.Adamax(lr=0.002, beta_1=0.9, beta_2=0.999, epsilon=None, decay=0.0)\n",
    "model.compile(loss='binary_crossentropy', optimizer=optim)\n",
    "\n",
    "#Get a summary of the model.\n",
    "model.summary()\n",
    "\n",
    "'''"
   ]
  },
  {
   "cell_type": "markdown",
   "metadata": {},
   "source": [
    "# Model 3\n",
    "\n",
    "<ul>\n",
    "  <li>ReLU Activation</li>\n",
    "  <li>RMSprop optimzer</li>\n",
    "  <li>Dropout</li>\n",
    "  <li>Model Architecture: 784-512-364-128-10</li>\n",
    "</ul> \n",
    "\n",
    "**3 Hidden Layers**"
   ]
  },
  {
   "cell_type": "code",
   "execution_count": 50,
   "metadata": {},
   "outputs": [
    {
     "name": "stdout",
     "output_type": "stream",
     "text": [
      "_________________________________________________________________\n",
      "Layer (type)                 Output Shape              Param #   \n",
      "=================================================================\n",
      "conv2d_38 (Conv2D)           (None, 62, 62, 32)        896       \n",
      "_________________________________________________________________\n",
      "max_pooling2d_21 (MaxPooling (None, 31, 31, 32)        0         \n",
      "_________________________________________________________________\n",
      "dropout_72 (Dropout)         (None, 31, 31, 32)        0         \n",
      "_________________________________________________________________\n",
      "conv2d_39 (Conv2D)           (None, 29, 29, 32)        9248      \n",
      "_________________________________________________________________\n",
      "max_pooling2d_22 (MaxPooling (None, 14, 14, 32)        0         \n",
      "_________________________________________________________________\n",
      "dropout_73 (Dropout)         (None, 14, 14, 32)        0         \n",
      "_________________________________________________________________\n",
      "conv2d_40 (Conv2D)           (None, 12, 12, 32)        9248      \n",
      "_________________________________________________________________\n",
      "max_pooling2d_23 (MaxPooling (None, 6, 6, 32)          0         \n",
      "_________________________________________________________________\n",
      "dropout_74 (Dropout)         (None, 6, 6, 32)          0         \n",
      "_________________________________________________________________\n",
      "flatten_19 (Flatten)         (None, 1152)              0         \n",
      "_________________________________________________________________\n",
      "dense_59 (Dense)             (None, 128)               147584    \n",
      "_________________________________________________________________\n",
      "dense_60 (Dense)             (None, 1)                 129       \n",
      "=================================================================\n",
      "Total params: 167,105\n",
      "Trainable params: 167,105\n",
      "Non-trainable params: 0\n",
      "_________________________________________________________________\n",
      "Found 5216 images belonging to 2 classes.\n",
      "Found 624 images belonging to 2 classes.\n",
      "Epoch 1/25\n",
      "4000/4000 [==============================] - 2248s 562ms/step - loss: 0.1999 - acc: 0.9204 - val_loss: 0.2429 - val_acc: 0.9263\n",
      "Epoch 2/25\n",
      "4000/4000 [==============================] - 2290s 573ms/step - loss: 0.1316 - acc: 0.9512 - val_loss: 0.2143 - val_acc: 0.9279\n",
      "Epoch 3/25\n",
      "4000/4000 [==============================] - 2315s 579ms/step - loss: 0.1158 - acc: 0.9575 - val_loss: 0.2525 - val_acc: 0.9183\n",
      "Epoch 4/25\n",
      "4000/4000 [==============================] - 2323s 581ms/step - loss: 0.1079 - acc: 0.9615 - val_loss: 0.2315 - val_acc: 0.9135\n",
      "Epoch 5/25\n",
      "4000/4000 [==============================] - 2314s 579ms/step - loss: 0.1047 - acc: 0.9634 - val_loss: 0.2448 - val_acc: 0.9215\n",
      "Epoch 6/25\n",
      "4000/4000 [==============================] - 2278s 570ms/step - loss: 0.1039 - acc: 0.9642 - val_loss: 0.2071 - val_acc: 0.9343\n",
      "Epoch 7/25\n",
      "4000/4000 [==============================] - 2332s 583ms/step - loss: 0.1074 - acc: 0.9632 - val_loss: 0.2784 - val_acc: 0.8942\n",
      "Epoch 8/25\n",
      "4000/4000 [==============================] - 2017s 504ms/step - loss: 0.1120 - acc: 0.9618 - val_loss: 0.2260 - val_acc: 0.9199\n",
      "Epoch 9/25\n",
      "4000/4000 [==============================] - 2027s 507ms/step - loss: 0.1191 - acc: 0.9597 - val_loss: 0.3314 - val_acc: 0.8894\n",
      "Epoch 10/25\n",
      "4000/4000 [==============================] - 1997s 499ms/step - loss: 0.1268 - acc: 0.9577 - val_loss: 0.3060 - val_acc: 0.8686\n",
      "Epoch 11/25\n",
      "4000/4000 [==============================] - 1996s 499ms/step - loss: 0.1479 - acc: 0.9555 - val_loss: 0.2980 - val_acc: 0.8846\n",
      "Epoch 12/25\n",
      "4000/4000 [==============================] - 1996s 499ms/step - loss: 0.1316 - acc: 0.9561 - val_loss: 0.2652 - val_acc: 0.8958\n",
      "Epoch 13/25\n",
      "4000/4000 [==============================] - 1996s 499ms/step - loss: 0.1349 - acc: 0.9555 - val_loss: 0.2973 - val_acc: 0.8798\n",
      "Epoch 14/25\n",
      "4000/4000 [==============================] - 1997s 499ms/step - loss: 0.1431 - acc: 0.9532 - val_loss: 0.2726 - val_acc: 0.9135\n",
      "Epoch 15/25\n",
      "4000/4000 [==============================] - 1994s 499ms/step - loss: 0.1436 - acc: 0.9522 - val_loss: 0.3474 - val_acc: 0.8542\n",
      "Epoch 16/25\n",
      "4000/4000 [==============================] - 1994s 499ms/step - loss: 0.1552 - acc: 0.9512 - val_loss: 0.3617 - val_acc: 0.8446\n",
      "Epoch 17/25\n",
      "4000/4000 [==============================] - 1996s 499ms/step - loss: 0.2130 - acc: 0.9461 - val_loss: 0.4224 - val_acc: 0.8045\n",
      "Epoch 18/25\n",
      "4000/4000 [==============================] - 1994s 498ms/step - loss: 0.1738 - acc: 0.9469 - val_loss: 0.3007 - val_acc: 0.8894\n",
      "Epoch 19/25\n",
      "4000/4000 [==============================] - 1995s 499ms/step - loss: 0.2131 - acc: 0.9450 - val_loss: 0.3693 - val_acc: 0.8590\n",
      "Epoch 20/25\n",
      "4000/4000 [==============================] - 2017s 504ms/step - loss: 0.2146 - acc: 0.9443 - val_loss: 0.2838 - val_acc: 0.9038\n",
      "Epoch 21/25\n",
      "4000/4000 [==============================] - 1998s 500ms/step - loss: 0.1741 - acc: 0.9454 - val_loss: 0.3407 - val_acc: 0.8590\n",
      "Epoch 22/25\n",
      "4000/4000 [==============================] - 1997s 499ms/step - loss: 0.1790 - acc: 0.9443 - val_loss: 0.3321 - val_acc: 0.8814\n",
      "Epoch 23/25\n",
      "4000/4000 [==============================] - 2000s 500ms/step - loss: 0.1883 - acc: 0.9419 - val_loss: 0.3681 - val_acc: 0.8622\n",
      "Epoch 24/25\n",
      "4000/4000 [==============================] - 2024s 506ms/step - loss: 0.2556 - acc: 0.9384 - val_loss: 0.2819 - val_acc: 0.8862\n",
      "Epoch 25/25\n",
      "4000/4000 [==============================] - 2014s 504ms/step - loss: 0.1986 - acc: 0.9382 - val_loss: 0.2984 - val_acc: 0.8862\n"
     ]
    },
    {
     "data": {
      "image/png": "[encoded data removed]",
      "text/plain": [
       "<Figure size 432x288 with 1 Axes>"
      ]
     },
     "metadata": {
      "needs_background": "light"
     },
     "output_type": "display_data"
    }
   ],
   "source": [
    "# Importing the Keras libraries and packages\n",
    "from keras.models import Sequential\n",
    "from keras.layers import Conv2D\n",
    "from keras.layers import MaxPooling2D\n",
    "from keras.layers import Flatten\n",
    "from keras.layers import Dense\n",
    "from keras.layers.core import Flatten, Dense, Dropout\n",
    "from keras.layers.convolutional import Convolution2D, MaxPooling2D, ZeroPadding2D\n",
    "from keras.optimizers import SGD\n",
    "\n",
    "# Initialising the CNN\n",
    "model_3_hidden= Sequential()\n",
    "\n",
    "# Step 1 - Convolution\n",
    "model_3_hidden.add(Conv2D(32, (3, 3), input_shape = (64, 64, 3), activation = 'relu'))\n",
    "model_3_hidden.add(MaxPooling2D(pool_size = (2, 2)))\n",
    "model_3_hidden.add(Dropout(0.2))\n",
    "# Adding a second convolutional layer\n",
    "model_3_hidden.add(Conv2D(32, (3, 3), activation = 'relu'))\n",
    "model_3_hidden.add(MaxPooling2D(pool_size = (2, 2)))\n",
    "model_3_hidden.add(Dropout(0.2))\n",
    "# Adding a third convolutional layer\n",
    "model_3_hidden.add(Conv2D(32, (3, 3), activation = 'relu'))\n",
    "model_3_hidden.add(MaxPooling2D(pool_size = (2, 2)))\n",
    "model_3_hidden.add(Dropout(0.2))\n",
    "# Step 3 - Flattening\n",
    "model_3_hidden.add(Flatten())\n",
    "\n",
    "# Step 4 - Full connection\n",
    "model_3_hidden.add(Dense(units = 128, activation = 'relu'))\n",
    "model_3_hidden.add(Dense(units = 1, activation = 'sigmoid'))\n",
    "\n",
    "# Compiling the CNN\n",
    "optim=optimizers.RMSprop(lr=0.001, rho=0.9, epsilon=None, decay=0.0)\n",
    "model_3_hidden.compile(optimizer = optim, loss = 'binary_crossentropy', metrics = ['accuracy'])\n",
    "\n",
    "#summary\n",
    "model_3_hidden.summary()\n",
    "# Part 2 - Fitting the CNN to the images\n",
    "\n",
    "from keras.preprocessing.image import ImageDataGenerator\n",
    "\n",
    "train_datagen = ImageDataGenerator(rescale = 1./255,\n",
    "                                   shear_range = 0.2,\n",
    "                                   zoom_range = 0.2,\n",
    "                                   horizontal_flip = True)\n",
    "\n",
    "test_datagen = ImageDataGenerator(rescale = 1./255)\n",
    "\n",
    "training_set = train_datagen.flow_from_directory('chest_xray/train',\n",
    "                                                 target_size = (64, 64),\n",
    "                                                 batch_size = 32,\n",
    "                                                 class_mode = 'binary')\n",
    "\n",
    "test_set = test_datagen.flow_from_directory('chest_xray/test',\n",
    "                                            target_size = (64, 64),\n",
    "                                            batch_size = 64,\n",
    "                                            class_mode = 'binary')\n",
    "\n",
    "history=model_3_hidden.fit_generator(training_set,\n",
    "                         steps_per_epoch = 4000,\n",
    "                         epochs = 25,\n",
    "                         validation_data = test_set,\n",
    "                         validation_steps = 1000)\n",
    "\n",
    "\n",
    "# plotting training set and validation test \n",
    "plt.plot(history.history['loss'])\n",
    "plt.plot(history.history['val_loss'])\n",
    "plt.title('model loss')\n",
    "plt.ylabel('loss')\n",
    "plt.xlabel('epoch')\n",
    "plt.legend(['train', 'test'], loc='left')\n",
    "plt.show()"
   ]
  },
  {
   "cell_type": "code",
   "execution_count": 57,
   "metadata": {},
   "outputs": [
    {
     "data": {
      "text/plain": [
       "Text(0.5,0,'Hidden Layer 3 ')"
      ]
     },
     "execution_count": 57,
     "metadata": {},
     "output_type": "execute_result"
    },
    {
     "data": {
      "image/png": "[encoded data removed]",
      "text/plain": [
       "<Figure size 864x720 with 3 Axes>"
      ]
     },
     "metadata": {
      "needs_background": "light"
     },
     "output_type": "display_data"
    }
   ],
   "source": [
    "import seaborn as sns\n",
    "import matplotlib.pyplot as plt\n",
    "#Violin Plots for all the weights matrices.\n",
    "w_after = model_3_hidden.get_weights()\n",
    "\n",
    "h1_w = w_after[0].flatten().reshape(-1,1)\n",
    "h2_w = w_after[2].flatten().reshape(-1,1)\n",
    "h3_w = w_after[4].flatten().reshape(-1,1)\n",
    "out_w = w_after[6].flatten().reshape(-1,1)\n",
    "\n",
    "\n",
    "fig = plt.figure(figsize=(12,10))\n",
    "plt.title(\"Weight matrices after model is trained\")\n",
    "plt.subplot(1, 4, 1)\n",
    "plt.title(\"Trained model Weights\")\n",
    "ax = sns.violinplot(y=h1_w,color='b')\n",
    "plt.xlabel('Hidden Layer 1')\n",
    "\n",
    "plt.subplot(1, 4, 2)\n",
    "plt.title(\"Trained model Weights\")\n",
    "ax = sns.violinplot(y=h2_w, color='r')\n",
    "plt.xlabel('Hidden Layer 2 ')\n",
    "\n",
    "plt.subplot(1, 4, 3)\n",
    "plt.title(\"Trained model Weights\")\n",
    "ax = sns.violinplot(y=h3_w, color='g')\n",
    "plt.xlabel('Hidden Layer 3 ')\n"
   ]
  },
  {
   "cell_type": "markdown",
   "metadata": {},
   "source": [
    "<h1>Conclusion</h1>\n",
    "<html>\n",
    "<style>\n",
    "table {\n",
    "  font-family: arial, sans-serif;\n",
    "  border-collapse: collapse;\n",
    "  width: 100%;\n",
    "}\n",
    "\n",
    "td, th {\n",
    "  border: 1px solid #dddddd;\n",
    "  text-align: left;\n",
    "  padding: 8px;\n",
    "}\n",
    "\n",
    "tr:nth-child(even) {\n",
    "  background-color: #dddddd;\n",
    "}\n",
    "</style>\n",
    "<body>\n",
    "    <br>\n",
    "    <b>Here are the results of our three models</b> \n",
    "<table border=1>\n",
    "  <tr>\n",
    "    <th>Model</th>\n",
    "    <th>Architecture</th>\n",
    "    <th>Training Accuracy</th>\n",
    "    <th>Test Accuracy</th>\n",
    "  </tr>\n",
    "  <tr>\n",
    "    <td>Model 1</td>\n",
    "    <td>2:1 Arcitecture without using Batch Normalization and Dropout</td>\n",
    "    <td>99%</td>\n",
    "    <td>93%</td>\n",
    "  </tr>\n",
    "  <tr>\n",
    "    <td>Model 2</td>\n",
    "    <td>4:2 Achitecture using Batch Normalization and Dropout</td>\n",
    "    <td>99%</td>\n",
    "    <td>91%</td>\n",
    "  </tr>\n",
    "  <tr>\n",
    "    <td>Model 3</td>\n",
    "    <td>3:1 Convolutional layer</td>\n",
    "    <td>96%</td>\n",
    "    <td>93%</td>\n",
    "  </tr>\n",
    "</table>\n",
    "</body>\n",
    "</html>"
   ]
  },
  {
   "cell_type": "code",
   "execution_count": null,
   "metadata": {},
   "outputs": [],
   "source": []
  }
 ],
 "metadata": {
  "kernelspec": {
   "display_name": "Python 3",
   "language": "python",
   "name": "python3"
  },
  "language_info": {
   "codemirror_mode": {
    "name": "ipython",
    "version": 3
   },
   "file_extension": ".py",
   "mimetype": "text/x-python",
   "name": "python",
   "nbconvert_exporter": "python",
   "pygments_lexer": "ipython3",
   "version": "3.6.5"
  }
 },
 "nbformat": 4,
 "nbformat_minor": 2
}
